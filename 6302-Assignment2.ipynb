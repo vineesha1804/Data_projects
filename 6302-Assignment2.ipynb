{
 "cells": [
  {
   "cell_type": "markdown",
   "id": "7b6281c4",
   "metadata": {},
   "source": [
    "<h2 style=\"text-align:center\">2242-ASDS-6302-002-MACHINE LEARNING</h2>"
   ]
  },
  {
   "cell_type": "markdown",
   "id": "d340e7b7",
   "metadata": {},
   "source": [
    "<h2 style=\"text-align:center\">Name: Vineesha Mallu</h2>"
   ]
  },
  {
   "cell_type": "markdown",
   "id": "0c92004d",
   "metadata": {},
   "source": [
    "<h2 style=\"text-align:center\">UTA ID: 1002419747</h2>"
   ]
  },
  {
   "cell_type": "markdown",
   "id": "4620e1bc",
   "metadata": {},
   "source": [
    "<h4 style=\"text-align:center\">Statement of Problem</h4>\n",
    "<p>The US Census Bureau has provided a dataset containing various metrics, such as population, median income, and median housing prices, for each block group in California. The objective is to build a housing price prediction model using the dataset,which can predict the median house values in any district based on other metrics.</p>\n",
    "<h4 style=\"text-align:center\">Objective</h4>\n",
    "<p>Develop a model to predict median house values in California using the given dataset. The model should be capable of predicting\n",
    "housing prices in any district based on various metrics.</p>"
   ]
  },
  {
   "cell_type": "markdown",
   "id": "62350ddb",
   "metadata": {},
   "source": [
    "<h4 style=\"text-align:center\">QUESTIONS</h4>"
   ]
  },
  {
   "cell_type": "markdown",
   "id": "dafa045d",
   "metadata": {},
   "source": [
    "#Importing Required Packages"
   ]
  },
  {
   "cell_type": "markdown",
   "id": "06f26d53",
   "metadata": {},
   "source": [
    "import pandas as pd\n",
    "import numpy as np\n",
    "from sklearn.metrics import mean_squared_error, r2_score\n",
    "from sklearn.impute import KNNImputer\n",
    "from sklearn.model_selection import train_test_split, GridSearchCV, cross_val_score, KFold\n",
    "from sklearn.linear_model import LinearRegression, Ridge, RidgeCV, Lasso, ElasticNet\n",
    "from sklearn.preprocessing import StandardScaler"
   ]
  },
  {
   "cell_type": "markdown",
   "id": "b7f7bcb7",
   "metadata": {},
   "source": [
    "#1. Load and Explore Data:\n",
    "- Read the \"housing.xlsx\" file.\n",
    "- Display the first few rows of the dataset.\n",
    "- Extract input (X) and output (Y) data from the dataset."
   ]
  },
  {
   "cell_type": "code",
   "execution_count": 65,
   "id": "6d8ac833",
   "metadata": {},
   "outputs": [
    {
     "name": "stdout",
     "output_type": "stream",
     "text": [
      "Displaying first 5 rows:\n",
      "\n"
     ]
    },
    {
     "data": {
      "text/html": [
       "<div>\n",
       "<style scoped>\n",
       "    .dataframe tbody tr th:only-of-type {\n",
       "        vertical-align: middle;\n",
       "    }\n",
       "\n",
       "    .dataframe tbody tr th {\n",
       "        vertical-align: top;\n",
       "    }\n",
       "\n",
       "    .dataframe thead th {\n",
       "        text-align: right;\n",
       "    }\n",
       "</style>\n",
       "<table border=\"1\" class=\"dataframe\">\n",
       "  <thead>\n",
       "    <tr style=\"text-align: right;\">\n",
       "      <th></th>\n",
       "      <th>longitude</th>\n",
       "      <th>latitude</th>\n",
       "      <th>housing_median_age</th>\n",
       "      <th>total_rooms</th>\n",
       "      <th>total_bedrooms</th>\n",
       "      <th>population</th>\n",
       "      <th>households</th>\n",
       "      <th>median_income</th>\n",
       "      <th>ocean_proximity</th>\n",
       "      <th>median_house_value</th>\n",
       "    </tr>\n",
       "  </thead>\n",
       "  <tbody>\n",
       "    <tr>\n",
       "      <th>0</th>\n",
       "      <td>-122.23</td>\n",
       "      <td>37.88</td>\n",
       "      <td>41</td>\n",
       "      <td>880</td>\n",
       "      <td>129.0</td>\n",
       "      <td>322</td>\n",
       "      <td>126</td>\n",
       "      <td>8.3252</td>\n",
       "      <td>NEAR BAY</td>\n",
       "      <td>452600</td>\n",
       "    </tr>\n",
       "    <tr>\n",
       "      <th>1</th>\n",
       "      <td>-122.22</td>\n",
       "      <td>37.86</td>\n",
       "      <td>21</td>\n",
       "      <td>7099</td>\n",
       "      <td>1106.0</td>\n",
       "      <td>2401</td>\n",
       "      <td>1138</td>\n",
       "      <td>8.3014</td>\n",
       "      <td>NEAR BAY</td>\n",
       "      <td>358500</td>\n",
       "    </tr>\n",
       "    <tr>\n",
       "      <th>2</th>\n",
       "      <td>-122.24</td>\n",
       "      <td>37.85</td>\n",
       "      <td>52</td>\n",
       "      <td>1467</td>\n",
       "      <td>190.0</td>\n",
       "      <td>496</td>\n",
       "      <td>177</td>\n",
       "      <td>7.2574</td>\n",
       "      <td>NEAR BAY</td>\n",
       "      <td>352100</td>\n",
       "    </tr>\n",
       "    <tr>\n",
       "      <th>3</th>\n",
       "      <td>-122.25</td>\n",
       "      <td>37.85</td>\n",
       "      <td>52</td>\n",
       "      <td>1274</td>\n",
       "      <td>235.0</td>\n",
       "      <td>558</td>\n",
       "      <td>219</td>\n",
       "      <td>5.6431</td>\n",
       "      <td>NEAR BAY</td>\n",
       "      <td>341300</td>\n",
       "    </tr>\n",
       "    <tr>\n",
       "      <th>4</th>\n",
       "      <td>-122.25</td>\n",
       "      <td>37.85</td>\n",
       "      <td>52</td>\n",
       "      <td>1627</td>\n",
       "      <td>280.0</td>\n",
       "      <td>565</td>\n",
       "      <td>259</td>\n",
       "      <td>3.8462</td>\n",
       "      <td>NEAR BAY</td>\n",
       "      <td>342200</td>\n",
       "    </tr>\n",
       "  </tbody>\n",
       "</table>\n",
       "</div>"
      ],
      "text/plain": [
       "   longitude  latitude  housing_median_age  total_rooms  total_bedrooms  \\\n",
       "0    -122.23     37.88                  41          880           129.0   \n",
       "1    -122.22     37.86                  21         7099          1106.0   \n",
       "2    -122.24     37.85                  52         1467           190.0   \n",
       "3    -122.25     37.85                  52         1274           235.0   \n",
       "4    -122.25     37.85                  52         1627           280.0   \n",
       "\n",
       "   population  households  median_income ocean_proximity  median_house_value  \n",
       "0         322         126         8.3252        NEAR BAY              452600  \n",
       "1        2401        1138         8.3014        NEAR BAY              358500  \n",
       "2         496         177         7.2574        NEAR BAY              352100  \n",
       "3         558         219         5.6431        NEAR BAY              341300  \n",
       "4         565         259         3.8462        NEAR BAY              342200  "
      ]
     },
     "execution_count": 65,
     "metadata": {},
     "output_type": "execute_result"
    }
   ],
   "source": [
    "# Reading housing.xlsx file using pandas read_excel method\n",
    "housing_data = pd.read_excel('housing.xlsx', sheet_name='housing')\n",
    "print(\"Displaying first 5 rows:\\n\")\n",
    "housing_data.head()"
   ]
  },
  {
   "cell_type": "code",
   "execution_count": 66,
   "id": "15879136",
   "metadata": {},
   "outputs": [
    {
     "name": "stdout",
     "output_type": "stream",
     "text": [
      "\n",
      "Shape of input data (X): (20640, 9)\n",
      "Shape of output data (Y): (20640,)\n"
     ]
    }
   ],
   "source": [
    "# Extracting input features from the dataset\n",
    "X = housing_data.drop(columns=['median_house_value'])\n",
    "# Extracting output feature from the dataset\n",
    "Y = housing_data['median_house_value']\n",
    "\n",
    "# Displaying the shapes of X and Y\n",
    "print(\"\\nShape of input data (X):\", X.shape)\n",
    "print(\"Shape of output data (Y):\", Y.shape)"
   ]
  },
  {
   "cell_type": "markdown",
   "id": "1e5c7f2f",
   "metadata": {},
   "source": [
    "#2. Handle Missing Values:\n",
    "- Fill missing values. Imputation method should make sense."
   ]
  },
  {
   "cell_type": "code",
   "execution_count": 67,
   "id": "810fcc52",
   "metadata": {},
   "outputs": [
    {
     "name": "stdout",
     "output_type": "stream",
     "text": [
      "Checking Missing values:\n",
      "longitude               0\n",
      "latitude                0\n",
      "housing_median_age      0\n",
      "total_rooms             0\n",
      "total_bedrooms        207\n",
      "population              0\n",
      "households              0\n",
      "median_income           0\n",
      "ocean_proximity         0\n",
      "median_house_value      0\n",
      "dtype: int64\n"
     ]
    }
   ],
   "source": [
    "# Trying to check is there any missing values in the dataset using isnull method\n",
    "print(\"Checking Missing values:\")\n",
    "print(housing_data.isnull().sum())"
   ]
  },
  {
   "cell_type": "code",
   "execution_count": 68,
   "id": "3ea58a44",
   "metadata": {},
   "outputs": [
    {
     "name": "stdout",
     "output_type": "stream",
     "text": [
      "Percentage of missing values in 'total_bedrooms': 1.00%\n"
     ]
    }
   ],
   "source": [
    "# Checking the percentage of missing values in total_bedrooms feature\n",
    "missing_percentage = (housing_data['total_bedrooms'].isnull().sum() / len(housing_data)) * 100\n",
    "print(\"Percentage of missing values in 'total_bedrooms': {:.2f}%\".format(missing_percentage))"
   ]
  },
  {
   "cell_type": "markdown",
   "id": "04a7ce8f",
   "metadata": {},
   "source": [
    "To handle missing values using KNN Imputation technique which considers the similarity between rows, using other features to predict the missing 'total_bedrooms' values. This method is more sophisticated and can be more accurate."
   ]
  },
  {
   "cell_type": "code",
   "execution_count": 69,
   "id": "93337c53",
   "metadata": {},
   "outputs": [
    {
     "data": {
      "text/html": [
       "<div>\n",
       "<style scoped>\n",
       "    .dataframe tbody tr th:only-of-type {\n",
       "        vertical-align: middle;\n",
       "    }\n",
       "\n",
       "    .dataframe tbody tr th {\n",
       "        vertical-align: top;\n",
       "    }\n",
       "\n",
       "    .dataframe thead th {\n",
       "        text-align: right;\n",
       "    }\n",
       "</style>\n",
       "<table border=\"1\" class=\"dataframe\">\n",
       "  <thead>\n",
       "    <tr style=\"text-align: right;\">\n",
       "      <th></th>\n",
       "      <th>longitude</th>\n",
       "      <th>latitude</th>\n",
       "      <th>housing_median_age</th>\n",
       "      <th>total_rooms</th>\n",
       "      <th>total_bedrooms</th>\n",
       "      <th>population</th>\n",
       "      <th>households</th>\n",
       "      <th>median_income</th>\n",
       "      <th>median_house_value</th>\n",
       "    </tr>\n",
       "  </thead>\n",
       "  <tbody>\n",
       "    <tr>\n",
       "      <th>longitude</th>\n",
       "      <td>1.000000</td>\n",
       "      <td>-0.924664</td>\n",
       "      <td>-0.108197</td>\n",
       "      <td>0.044568</td>\n",
       "      <td>0.069608</td>\n",
       "      <td>0.099773</td>\n",
       "      <td>0.055310</td>\n",
       "      <td>-0.015176</td>\n",
       "      <td>-0.045967</td>\n",
       "    </tr>\n",
       "    <tr>\n",
       "      <th>latitude</th>\n",
       "      <td>-0.924664</td>\n",
       "      <td>1.000000</td>\n",
       "      <td>0.011173</td>\n",
       "      <td>-0.036100</td>\n",
       "      <td>-0.066983</td>\n",
       "      <td>-0.108785</td>\n",
       "      <td>-0.071035</td>\n",
       "      <td>-0.079809</td>\n",
       "      <td>-0.144160</td>\n",
       "    </tr>\n",
       "    <tr>\n",
       "      <th>housing_median_age</th>\n",
       "      <td>-0.108197</td>\n",
       "      <td>0.011173</td>\n",
       "      <td>1.000000</td>\n",
       "      <td>-0.361262</td>\n",
       "      <td>-0.320451</td>\n",
       "      <td>-0.296244</td>\n",
       "      <td>-0.302916</td>\n",
       "      <td>-0.119034</td>\n",
       "      <td>0.105623</td>\n",
       "    </tr>\n",
       "    <tr>\n",
       "      <th>total_rooms</th>\n",
       "      <td>0.044568</td>\n",
       "      <td>-0.036100</td>\n",
       "      <td>-0.361262</td>\n",
       "      <td>1.000000</td>\n",
       "      <td>0.930380</td>\n",
       "      <td>0.857126</td>\n",
       "      <td>0.918484</td>\n",
       "      <td>0.198050</td>\n",
       "      <td>0.134153</td>\n",
       "    </tr>\n",
       "    <tr>\n",
       "      <th>total_bedrooms</th>\n",
       "      <td>0.069608</td>\n",
       "      <td>-0.066983</td>\n",
       "      <td>-0.320451</td>\n",
       "      <td>0.930380</td>\n",
       "      <td>1.000000</td>\n",
       "      <td>0.877747</td>\n",
       "      <td>0.979728</td>\n",
       "      <td>-0.007723</td>\n",
       "      <td>0.049686</td>\n",
       "    </tr>\n",
       "    <tr>\n",
       "      <th>population</th>\n",
       "      <td>0.099773</td>\n",
       "      <td>-0.108785</td>\n",
       "      <td>-0.296244</td>\n",
       "      <td>0.857126</td>\n",
       "      <td>0.877747</td>\n",
       "      <td>1.000000</td>\n",
       "      <td>0.907222</td>\n",
       "      <td>0.004834</td>\n",
       "      <td>-0.024650</td>\n",
       "    </tr>\n",
       "    <tr>\n",
       "      <th>households</th>\n",
       "      <td>0.055310</td>\n",
       "      <td>-0.071035</td>\n",
       "      <td>-0.302916</td>\n",
       "      <td>0.918484</td>\n",
       "      <td>0.979728</td>\n",
       "      <td>0.907222</td>\n",
       "      <td>1.000000</td>\n",
       "      <td>0.013033</td>\n",
       "      <td>0.065843</td>\n",
       "    </tr>\n",
       "    <tr>\n",
       "      <th>median_income</th>\n",
       "      <td>-0.015176</td>\n",
       "      <td>-0.079809</td>\n",
       "      <td>-0.119034</td>\n",
       "      <td>0.198050</td>\n",
       "      <td>-0.007723</td>\n",
       "      <td>0.004834</td>\n",
       "      <td>0.013033</td>\n",
       "      <td>1.000000</td>\n",
       "      <td>0.688075</td>\n",
       "    </tr>\n",
       "    <tr>\n",
       "      <th>median_house_value</th>\n",
       "      <td>-0.045967</td>\n",
       "      <td>-0.144160</td>\n",
       "      <td>0.105623</td>\n",
       "      <td>0.134153</td>\n",
       "      <td>0.049686</td>\n",
       "      <td>-0.024650</td>\n",
       "      <td>0.065843</td>\n",
       "      <td>0.688075</td>\n",
       "      <td>1.000000</td>\n",
       "    </tr>\n",
       "  </tbody>\n",
       "</table>\n",
       "</div>"
      ],
      "text/plain": [
       "                    longitude  latitude  housing_median_age  total_rooms  \\\n",
       "longitude            1.000000 -0.924664           -0.108197     0.044568   \n",
       "latitude            -0.924664  1.000000            0.011173    -0.036100   \n",
       "housing_median_age  -0.108197  0.011173            1.000000    -0.361262   \n",
       "total_rooms          0.044568 -0.036100           -0.361262     1.000000   \n",
       "total_bedrooms       0.069608 -0.066983           -0.320451     0.930380   \n",
       "population           0.099773 -0.108785           -0.296244     0.857126   \n",
       "households           0.055310 -0.071035           -0.302916     0.918484   \n",
       "median_income       -0.015176 -0.079809           -0.119034     0.198050   \n",
       "median_house_value  -0.045967 -0.144160            0.105623     0.134153   \n",
       "\n",
       "                    total_bedrooms  population  households  median_income  \\\n",
       "longitude                 0.069608    0.099773    0.055310      -0.015176   \n",
       "latitude                 -0.066983   -0.108785   -0.071035      -0.079809   \n",
       "housing_median_age       -0.320451   -0.296244   -0.302916      -0.119034   \n",
       "total_rooms               0.930380    0.857126    0.918484       0.198050   \n",
       "total_bedrooms            1.000000    0.877747    0.979728      -0.007723   \n",
       "population                0.877747    1.000000    0.907222       0.004834   \n",
       "households                0.979728    0.907222    1.000000       0.013033   \n",
       "median_income            -0.007723    0.004834    0.013033       1.000000   \n",
       "median_house_value        0.049686   -0.024650    0.065843       0.688075   \n",
       "\n",
       "                    median_house_value  \n",
       "longitude                    -0.045967  \n",
       "latitude                     -0.144160  \n",
       "housing_median_age            0.105623  \n",
       "total_rooms                   0.134153  \n",
       "total_bedrooms                0.049686  \n",
       "population                   -0.024650  \n",
       "households                    0.065843  \n",
       "median_income                 0.688075  \n",
       "median_house_value            1.000000  "
      ]
     },
     "execution_count": 69,
     "metadata": {},
     "output_type": "execute_result"
    }
   ],
   "source": [
    "# Trying to find correlation for numeric features using corr method\n",
    "numeric_features = housing_data.select_dtypes(include=['float64', 'int64'])\n",
    "correlation_matrix = numeric_features.corr()\n",
    "correlation_matrix"
   ]
  },
  {
   "cell_type": "markdown",
   "id": "b4368052",
   "metadata": {},
   "source": [
    "From above correlation table, features like total_rooms, population and households have strong correlation with total_bedrooms. So we can use these features in KNN imputaion to find nearest values."
   ]
  },
  {
   "cell_type": "code",
   "execution_count": 70,
   "id": "61d3de1e",
   "metadata": {},
   "outputs": [
    {
     "data": {
      "text/html": [
       "<div>\n",
       "<style scoped>\n",
       "    .dataframe tbody tr th:only-of-type {\n",
       "        vertical-align: middle;\n",
       "    }\n",
       "\n",
       "    .dataframe tbody tr th {\n",
       "        vertical-align: top;\n",
       "    }\n",
       "\n",
       "    .dataframe thead th {\n",
       "        text-align: right;\n",
       "    }\n",
       "</style>\n",
       "<table border=\"1\" class=\"dataframe\">\n",
       "  <thead>\n",
       "    <tr style=\"text-align: right;\">\n",
       "      <th></th>\n",
       "      <th>longitude</th>\n",
       "      <th>latitude</th>\n",
       "      <th>housing_median_age</th>\n",
       "      <th>total_rooms</th>\n",
       "      <th>total_bedrooms</th>\n",
       "      <th>population</th>\n",
       "      <th>households</th>\n",
       "      <th>median_income</th>\n",
       "      <th>ocean_proximity</th>\n",
       "      <th>median_house_value</th>\n",
       "    </tr>\n",
       "  </thead>\n",
       "  <tbody>\n",
       "    <tr>\n",
       "      <th>0</th>\n",
       "      <td>-122.23</td>\n",
       "      <td>37.88</td>\n",
       "      <td>41</td>\n",
       "      <td>880</td>\n",
       "      <td>129.0</td>\n",
       "      <td>322</td>\n",
       "      <td>126</td>\n",
       "      <td>8.3252</td>\n",
       "      <td>NEAR BAY</td>\n",
       "      <td>452600</td>\n",
       "    </tr>\n",
       "    <tr>\n",
       "      <th>1</th>\n",
       "      <td>-122.22</td>\n",
       "      <td>37.86</td>\n",
       "      <td>21</td>\n",
       "      <td>7099</td>\n",
       "      <td>1106.0</td>\n",
       "      <td>2401</td>\n",
       "      <td>1138</td>\n",
       "      <td>8.3014</td>\n",
       "      <td>NEAR BAY</td>\n",
       "      <td>358500</td>\n",
       "    </tr>\n",
       "    <tr>\n",
       "      <th>2</th>\n",
       "      <td>-122.24</td>\n",
       "      <td>37.85</td>\n",
       "      <td>52</td>\n",
       "      <td>1467</td>\n",
       "      <td>190.0</td>\n",
       "      <td>496</td>\n",
       "      <td>177</td>\n",
       "      <td>7.2574</td>\n",
       "      <td>NEAR BAY</td>\n",
       "      <td>352100</td>\n",
       "    </tr>\n",
       "    <tr>\n",
       "      <th>3</th>\n",
       "      <td>-122.25</td>\n",
       "      <td>37.85</td>\n",
       "      <td>52</td>\n",
       "      <td>1274</td>\n",
       "      <td>235.0</td>\n",
       "      <td>558</td>\n",
       "      <td>219</td>\n",
       "      <td>5.6431</td>\n",
       "      <td>NEAR BAY</td>\n",
       "      <td>341300</td>\n",
       "    </tr>\n",
       "    <tr>\n",
       "      <th>4</th>\n",
       "      <td>-122.25</td>\n",
       "      <td>37.85</td>\n",
       "      <td>52</td>\n",
       "      <td>1627</td>\n",
       "      <td>280.0</td>\n",
       "      <td>565</td>\n",
       "      <td>259</td>\n",
       "      <td>3.8462</td>\n",
       "      <td>NEAR BAY</td>\n",
       "      <td>342200</td>\n",
       "    </tr>\n",
       "  </tbody>\n",
       "</table>\n",
       "</div>"
      ],
      "text/plain": [
       "   longitude  latitude  housing_median_age  total_rooms  total_bedrooms  \\\n",
       "0    -122.23     37.88                  41          880           129.0   \n",
       "1    -122.22     37.86                  21         7099          1106.0   \n",
       "2    -122.24     37.85                  52         1467           190.0   \n",
       "3    -122.25     37.85                  52         1274           235.0   \n",
       "4    -122.25     37.85                  52         1627           280.0   \n",
       "\n",
       "   population  households  median_income ocean_proximity  median_house_value  \n",
       "0         322         126         8.3252        NEAR BAY              452600  \n",
       "1        2401        1138         8.3014        NEAR BAY              358500  \n",
       "2         496         177         7.2574        NEAR BAY              352100  \n",
       "3         558         219         5.6431        NEAR BAY              341300  \n",
       "4         565         259         3.8462        NEAR BAY              342200  "
      ]
     },
     "execution_count": 70,
     "metadata": {},
     "output_type": "execute_result"
    }
   ],
   "source": [
    "# Features considering for imputation\n",
    "columns_for_imputation = ['total_bedrooms','total_rooms','population','households']\n",
    "# Initializing KNN imputation and trying to fit the imputation using 3 nearest neighbors\n",
    "imputer = KNNImputer(n_neighbors=3)\n",
    "imputed_data = imputer.fit_transform(housing_data[columns_for_imputation])\n",
    "\n",
    "# Update only the 'total_bedrooms' column in the original DataFrame\n",
    "housing_data['total_bedrooms'] = imputed_data[:, columns_for_imputation.index('total_bedrooms')]\n",
    "housing_data.head()"
   ]
  },
  {
   "cell_type": "code",
   "execution_count": 71,
   "id": "614d8ffe",
   "metadata": {},
   "outputs": [
    {
     "data": {
      "text/plain": [
       "longitude             0\n",
       "latitude              0\n",
       "housing_median_age    0\n",
       "total_rooms           0\n",
       "total_bedrooms        0\n",
       "population            0\n",
       "households            0\n",
       "median_income         0\n",
       "ocean_proximity       0\n",
       "median_house_value    0\n",
       "dtype: int64"
      ]
     },
     "execution_count": 71,
     "metadata": {},
     "output_type": "execute_result"
    }
   ],
   "source": [
    "# Trying to check is there any missing values after KNN Imputation\n",
    "housing_data.isnull().sum()"
   ]
  },
  {
   "cell_type": "markdown",
   "id": "cb6e5319",
   "metadata": {},
   "source": [
    "#3. Encode Categorical Data:\n",
    "- Convert categorical columns in the dataset to numerical data."
   ]
  },
  {
   "cell_type": "code",
   "execution_count": 72,
   "id": "f6c67c3a",
   "metadata": {},
   "outputs": [
    {
     "data": {
      "text/html": [
       "<div>\n",
       "<style scoped>\n",
       "    .dataframe tbody tr th:only-of-type {\n",
       "        vertical-align: middle;\n",
       "    }\n",
       "\n",
       "    .dataframe tbody tr th {\n",
       "        vertical-align: top;\n",
       "    }\n",
       "\n",
       "    .dataframe thead th {\n",
       "        text-align: right;\n",
       "    }\n",
       "</style>\n",
       "<table border=\"1\" class=\"dataframe\">\n",
       "  <thead>\n",
       "    <tr style=\"text-align: right;\">\n",
       "      <th></th>\n",
       "      <th>longitude</th>\n",
       "      <th>latitude</th>\n",
       "      <th>housing_median_age</th>\n",
       "      <th>total_rooms</th>\n",
       "      <th>total_bedrooms</th>\n",
       "      <th>population</th>\n",
       "      <th>households</th>\n",
       "      <th>median_income</th>\n",
       "      <th>median_house_value</th>\n",
       "      <th>ocean_proximity_INLAND</th>\n",
       "      <th>ocean_proximity_ISLAND</th>\n",
       "      <th>ocean_proximity_NEAR BAY</th>\n",
       "      <th>ocean_proximity_NEAR OCEAN</th>\n",
       "    </tr>\n",
       "  </thead>\n",
       "  <tbody>\n",
       "    <tr>\n",
       "      <th>0</th>\n",
       "      <td>-122.23</td>\n",
       "      <td>37.88</td>\n",
       "      <td>41</td>\n",
       "      <td>880</td>\n",
       "      <td>129.0</td>\n",
       "      <td>322</td>\n",
       "      <td>126</td>\n",
       "      <td>8.3252</td>\n",
       "      <td>452600</td>\n",
       "      <td>False</td>\n",
       "      <td>False</td>\n",
       "      <td>True</td>\n",
       "      <td>False</td>\n",
       "    </tr>\n",
       "    <tr>\n",
       "      <th>1</th>\n",
       "      <td>-122.22</td>\n",
       "      <td>37.86</td>\n",
       "      <td>21</td>\n",
       "      <td>7099</td>\n",
       "      <td>1106.0</td>\n",
       "      <td>2401</td>\n",
       "      <td>1138</td>\n",
       "      <td>8.3014</td>\n",
       "      <td>358500</td>\n",
       "      <td>False</td>\n",
       "      <td>False</td>\n",
       "      <td>True</td>\n",
       "      <td>False</td>\n",
       "    </tr>\n",
       "    <tr>\n",
       "      <th>2</th>\n",
       "      <td>-122.24</td>\n",
       "      <td>37.85</td>\n",
       "      <td>52</td>\n",
       "      <td>1467</td>\n",
       "      <td>190.0</td>\n",
       "      <td>496</td>\n",
       "      <td>177</td>\n",
       "      <td>7.2574</td>\n",
       "      <td>352100</td>\n",
       "      <td>False</td>\n",
       "      <td>False</td>\n",
       "      <td>True</td>\n",
       "      <td>False</td>\n",
       "    </tr>\n",
       "    <tr>\n",
       "      <th>3</th>\n",
       "      <td>-122.25</td>\n",
       "      <td>37.85</td>\n",
       "      <td>52</td>\n",
       "      <td>1274</td>\n",
       "      <td>235.0</td>\n",
       "      <td>558</td>\n",
       "      <td>219</td>\n",
       "      <td>5.6431</td>\n",
       "      <td>341300</td>\n",
       "      <td>False</td>\n",
       "      <td>False</td>\n",
       "      <td>True</td>\n",
       "      <td>False</td>\n",
       "    </tr>\n",
       "    <tr>\n",
       "      <th>4</th>\n",
       "      <td>-122.25</td>\n",
       "      <td>37.85</td>\n",
       "      <td>52</td>\n",
       "      <td>1627</td>\n",
       "      <td>280.0</td>\n",
       "      <td>565</td>\n",
       "      <td>259</td>\n",
       "      <td>3.8462</td>\n",
       "      <td>342200</td>\n",
       "      <td>False</td>\n",
       "      <td>False</td>\n",
       "      <td>True</td>\n",
       "      <td>False</td>\n",
       "    </tr>\n",
       "  </tbody>\n",
       "</table>\n",
       "</div>"
      ],
      "text/plain": [
       "   longitude  latitude  housing_median_age  total_rooms  total_bedrooms  \\\n",
       "0    -122.23     37.88                  41          880           129.0   \n",
       "1    -122.22     37.86                  21         7099          1106.0   \n",
       "2    -122.24     37.85                  52         1467           190.0   \n",
       "3    -122.25     37.85                  52         1274           235.0   \n",
       "4    -122.25     37.85                  52         1627           280.0   \n",
       "\n",
       "   population  households  median_income  median_house_value  \\\n",
       "0         322         126         8.3252              452600   \n",
       "1        2401        1138         8.3014              358500   \n",
       "2         496         177         7.2574              352100   \n",
       "3         558         219         5.6431              341300   \n",
       "4         565         259         3.8462              342200   \n",
       "\n",
       "   ocean_proximity_INLAND  ocean_proximity_ISLAND  ocean_proximity_NEAR BAY  \\\n",
       "0                   False                   False                      True   \n",
       "1                   False                   False                      True   \n",
       "2                   False                   False                      True   \n",
       "3                   False                   False                      True   \n",
       "4                   False                   False                      True   \n",
       "\n",
       "   ocean_proximity_NEAR OCEAN  \n",
       "0                       False  \n",
       "1                       False  \n",
       "2                       False  \n",
       "3                       False  \n",
       "4                       False  "
      ]
     },
     "execution_count": 72,
     "metadata": {},
     "output_type": "execute_result"
    }
   ],
   "source": [
    "#Converting categorical columns in the dataset to numerical data\n",
    "housing_data = pd.get_dummies(housing_data, columns=['ocean_proximity'], drop_first=True)\n",
    "\n",
    "# Display the first few rows of the encoded dataset\n",
    "housing_data.head()"
   ]
  },
  {
   "cell_type": "markdown",
   "id": "151f4d8d",
   "metadata": {},
   "source": [
    "#4. Split the Dataset:\n",
    "- Split the data into 80% training dataset and 20% test dataset."
   ]
  },
  {
   "cell_type": "code",
   "execution_count": 73,
   "id": "ead6a168",
   "metadata": {},
   "outputs": [
    {
     "name": "stdout",
     "output_type": "stream",
     "text": [
      "The dimension of X_train is (16512, 12)\n",
      "The dimension of X_test is (4128, 12)\n"
     ]
    }
   ],
   "source": [
    "# Extracting input features from the dataset\n",
    "X = housing_data.drop(columns=['median_house_value'])\n",
    "# Extracting output feature from the dataset\n",
    "y = housing_data['median_house_value']\n",
    "\n",
    "#Spliting the data into 80% training dataset and 20% test dataset\n",
    "X_train, X_test, y_train, y_test = train_test_split(X, y, test_size=0.2, random_state=10)\n",
    "\n",
    "print(\"The dimension of X_train is {}\".format(X_train.shape))\n",
    "print(\"The dimension of X_test is {}\".format(X_test.shape))"
   ]
  },
  {
   "cell_type": "markdown",
   "id": "072ff8ec",
   "metadata": {},
   "source": [
    "#5. Standardize Data:\n",
    "- Standardize the training and test datasets."
   ]
  },
  {
   "cell_type": "code",
   "execution_count": 74,
   "id": "c4e104ef",
   "metadata": {},
   "outputs": [
    {
     "data": {
      "text/html": [
       "<div>\n",
       "<style scoped>\n",
       "    .dataframe tbody tr th:only-of-type {\n",
       "        vertical-align: middle;\n",
       "    }\n",
       "\n",
       "    .dataframe tbody tr th {\n",
       "        vertical-align: top;\n",
       "    }\n",
       "\n",
       "    .dataframe thead th {\n",
       "        text-align: right;\n",
       "    }\n",
       "</style>\n",
       "<table border=\"1\" class=\"dataframe\">\n",
       "  <thead>\n",
       "    <tr style=\"text-align: right;\">\n",
       "      <th></th>\n",
       "      <th>0</th>\n",
       "      <th>1</th>\n",
       "      <th>2</th>\n",
       "      <th>3</th>\n",
       "      <th>4</th>\n",
       "      <th>5</th>\n",
       "      <th>6</th>\n",
       "      <th>7</th>\n",
       "      <th>8</th>\n",
       "      <th>9</th>\n",
       "      <th>10</th>\n",
       "      <th>11</th>\n",
       "    </tr>\n",
       "  </thead>\n",
       "  <tbody>\n",
       "    <tr>\n",
       "      <th>0</th>\n",
       "      <td>1.523462</td>\n",
       "      <td>-0.850719</td>\n",
       "      <td>-0.602847</td>\n",
       "      <td>3.523431</td>\n",
       "      <td>4.248185</td>\n",
       "      <td>1.933739</td>\n",
       "      <td>3.255219</td>\n",
       "      <td>-0.709625</td>\n",
       "      <td>1.466063</td>\n",
       "      <td>-0.017404</td>\n",
       "      <td>-0.35283</td>\n",
       "      <td>-0.382555</td>\n",
       "    </tr>\n",
       "    <tr>\n",
       "      <th>1</th>\n",
       "      <td>-1.676442</td>\n",
       "      <td>1.337217</td>\n",
       "      <td>1.377381</td>\n",
       "      <td>-0.162457</td>\n",
       "      <td>-0.109365</td>\n",
       "      <td>-0.544768</td>\n",
       "      <td>-0.351275</td>\n",
       "      <td>-0.651252</td>\n",
       "      <td>-0.682099</td>\n",
       "      <td>-0.017404</td>\n",
       "      <td>-0.35283</td>\n",
       "      <td>-0.382555</td>\n",
       "    </tr>\n",
       "    <tr>\n",
       "      <th>2</th>\n",
       "      <td>-1.452150</td>\n",
       "      <td>0.930486</td>\n",
       "      <td>0.189244</td>\n",
       "      <td>0.222041</td>\n",
       "      <td>0.198986</td>\n",
       "      <td>0.040533</td>\n",
       "      <td>0.313079</td>\n",
       "      <td>0.682972</td>\n",
       "      <td>-0.682099</td>\n",
       "      <td>-0.017404</td>\n",
       "      <td>-0.35283</td>\n",
       "      <td>2.614004</td>\n",
       "    </tr>\n",
       "    <tr>\n",
       "      <th>3</th>\n",
       "      <td>0.730962</td>\n",
       "      <td>-0.738517</td>\n",
       "      <td>-0.998893</td>\n",
       "      <td>-0.099379</td>\n",
       "      <td>0.065128</td>\n",
       "      <td>0.285215</td>\n",
       "      <td>0.038901</td>\n",
       "      <td>-0.550104</td>\n",
       "      <td>-0.682099</td>\n",
       "      <td>-0.017404</td>\n",
       "      <td>-0.35283</td>\n",
       "      <td>-0.382555</td>\n",
       "    </tr>\n",
       "    <tr>\n",
       "      <th>4</th>\n",
       "      <td>-0.540028</td>\n",
       "      <td>-0.238284</td>\n",
       "      <td>0.981336</td>\n",
       "      <td>0.016574</td>\n",
       "      <td>0.509727</td>\n",
       "      <td>-0.427708</td>\n",
       "      <td>0.020447</td>\n",
       "      <td>-1.003551</td>\n",
       "      <td>-0.682099</td>\n",
       "      <td>-0.017404</td>\n",
       "      <td>-0.35283</td>\n",
       "      <td>-0.382555</td>\n",
       "    </tr>\n",
       "  </tbody>\n",
       "</table>\n",
       "</div>"
      ],
      "text/plain": [
       "         0         1         2         3         4         5         6   \\\n",
       "0  1.523462 -0.850719 -0.602847  3.523431  4.248185  1.933739  3.255219   \n",
       "1 -1.676442  1.337217  1.377381 -0.162457 -0.109365 -0.544768 -0.351275   \n",
       "2 -1.452150  0.930486  0.189244  0.222041  0.198986  0.040533  0.313079   \n",
       "3  0.730962 -0.738517 -0.998893 -0.099379  0.065128  0.285215  0.038901   \n",
       "4 -0.540028 -0.238284  0.981336  0.016574  0.509727 -0.427708  0.020447   \n",
       "\n",
       "         7         8         9        10        11  \n",
       "0 -0.709625  1.466063 -0.017404 -0.35283 -0.382555  \n",
       "1 -0.651252 -0.682099 -0.017404 -0.35283 -0.382555  \n",
       "2  0.682972 -0.682099 -0.017404 -0.35283  2.614004  \n",
       "3 -0.550104 -0.682099 -0.017404 -0.35283 -0.382555  \n",
       "4 -1.003551 -0.682099 -0.017404 -0.35283 -0.382555  "
      ]
     },
     "execution_count": 74,
     "metadata": {},
     "output_type": "execute_result"
    }
   ],
   "source": [
    "#Standardizing the training and testing datasets using StandardScalar\n",
    "scaler = StandardScaler()\n",
    "X_train = scaler.fit_transform(X_train)\n",
    "X_test = scaler.transform(X_test)\n",
    "pd.DataFrame(X_train).head()"
   ]
  },
  {
   "cell_type": "markdown",
   "id": "8e968022",
   "metadata": {},
   "source": [
    "#6. Linear Regression:\n",
    "- Perform Linear Regression on the training data.\n",
    "- Predict the output for the test dataset using the fitted model.\n",
    "- Print the root mean squared error (RMSE) from Linear Regression."
   ]
  },
  {
   "cell_type": "code",
   "execution_count": 75,
   "id": "a9bb4097",
   "metadata": {},
   "outputs": [
    {
     "name": "stdout",
     "output_type": "stream",
     "text": [
      "R2 score for train data: 0.6464347579023244\n",
      "R2 score for test data: 0.6462557578816923\n",
      "RMSE(train) for Linear Regression: 68399.1767\n",
      "RMSE(test) for Linear Regression: 69476.7456\n"
     ]
    }
   ],
   "source": [
    "# Initializing and performing Linear Regression on the training data\n",
    "lr_model = LinearRegression()\n",
    "lr_model.fit(X_train, y_train)\n",
    "\n",
    "# Predicting the output for the train and test dataset\n",
    "y_train_pred = lr_model.predict(X_train)\n",
    "y_pred = lr_model.predict(X_test)\n",
    "\n",
    "# Calculating train and test R2 score\n",
    "train_r2 = r2_score(y_train, y_train_pred)\n",
    "print(\"R2 score for train data:\", train_r2)\n",
    "\n",
    "test_r2 = r2_score(y_test, y_pred)\n",
    "print(\"R2 score for test data:\", test_r2)\n",
    "\n",
    "# Calculating train and test RMSE\n",
    "rmse = np.sqrt(mean_squared_error(y_train, y_train_pred))\n",
    "print(f\"RMSE(train) for Linear Regression: {rmse:.4f}\")\n",
    "\n",
    "rmse = np.sqrt(mean_squared_error(y_test, y_pred))\n",
    "print(f\"RMSE(test) for Linear Regression: {rmse:.4f}\")"
   ]
  },
  {
   "cell_type": "markdown",
   "id": "e7b337bb",
   "metadata": {},
   "source": [
    "The R2 score for the train data and test data is approximately 0.6464 and 0.6462, which means that approximately 64.64% and 64.62% of the variance in the target variable is explained by the features in the training and testing dataset.\n",
    "The RMSE for the train data and test data is approximately 68399.1767 and 69476.7456 units. This means that, on average, the predicted values are off by approximately 68399.1767 and 69476.7456 units from the actual values in the training and testing dataset."
   ]
  },
  {
   "cell_type": "markdown",
   "id": "2a4f2377",
   "metadata": {},
   "source": [
    "#7. Lasso Regression:\n",
    "- Implement Lasso Regression on the training data.\n",
    "- Predict the output for the test dataset using the fitted Lasso model.\n",
    "- Evaluate and print the RMSE for Lasso Regression."
   ]
  },
  {
   "cell_type": "code",
   "execution_count": 77,
   "id": "0a30a311",
   "metadata": {},
   "outputs": [
    {
     "name": "stdout",
     "output_type": "stream",
     "text": [
      "R2 score for train data: 0.6464347237605994\n",
      "R2 score for test data: 0.6462559684180953\n",
      "RMSE(train) for Lasso Regression: 68399.1800\n",
      "RMSE(test) for Lasso Regression: 69476.7249\n"
     ]
    }
   ],
   "source": [
    "# Initializing and fitting the Lasso Regression model\n",
    "lasso_model = Lasso(alpha=2.0)  \n",
    "lasso_model.fit(X_train, y_train)\n",
    "\n",
    "# Predicting the output for the train and test dataset\n",
    "y_train_pred = lasso_model.predict(X_train)\n",
    "y_pred = lasso_model.predict(X_test)\n",
    "\n",
    "# Calculating train and test R2 score\n",
    "train_r2 = r2_score(y_train, y_train_pred)\n",
    "print(\"R2 score for train data:\", train_r2)\n",
    "\n",
    "test_r2 = r2_score(y_test, y_pred)\n",
    "print(\"R2 score for test data:\", test_r2)\n",
    "\n",
    "# Calculating train and test RMSE\n",
    "rmse = np.sqrt(mean_squared_error(y_train, y_train_pred))\n",
    "print(f\"RMSE(train) for Lasso Regression: {rmse:.4f}\")\n",
    "\n",
    "rmse = np.sqrt(mean_squared_error(y_test, y_pred))\n",
    "print(f\"RMSE(test) for Lasso Regression: {rmse:.4f}\")"
   ]
  },
  {
   "cell_type": "markdown",
   "id": "2bef6c92",
   "metadata": {},
   "source": [
    "The R2 score for the train data and test data is approximately 0.6464 and  0.6462, which means that approximately 64.64% and 64.62% of the variance in the target variable is explained by the features in the training and testing dataset.\n",
    "The RMSE for the train data and test data is approximately 68399.1800 and 69476.7249 units. This means that, on average, the predicted values are off by approximately 68399.1800 and 69476.7249units from the actual values in the training and testing dataset."
   ]
  },
  {
   "cell_type": "markdown",
   "id": "c6feeb04",
   "metadata": {},
   "source": [
    "#8. Ridge Regression:\n",
    "- Implement Ridge Regression on the training data.\n",
    "- Predict the output for the test dataset using the fitted Ridge model.\n",
    "- Evaluate and print the RMSE for Ridge Regression."
   ]
  },
  {
   "cell_type": "code",
   "execution_count": 78,
   "id": "f9f1bcbb",
   "metadata": {},
   "outputs": [
    {
     "name": "stdout",
     "output_type": "stream",
     "text": [
      "R2 score for train data: 0.6464344278291291\n",
      "R2 score for test data: 0.6462692658271749\n",
      "RMSE(train) for Ridge Regression: 68399.2086\n",
      "RMSE(test) for Ridge Regression: 69475.4190\n"
     ]
    }
   ],
   "source": [
    "# Initializing and fitting the Ridge Regression model\n",
    "ridge_model = Ridge(alpha=2.0)  \n",
    "ridge_model.fit(X_train, y_train)\n",
    "\n",
    "# Predicting the output for the train and test dataset\n",
    "y_train_pred = ridge_model.predict(X_train)\n",
    "y_pred = ridge_model.predict(X_test)\n",
    "\n",
    "# Calculating train and test R2 score\n",
    "train_r2 = r2_score(y_train, y_train_pred)\n",
    "print(\"R2 score for train data:\", train_r2)\n",
    "\n",
    "test_r2 = r2_score(y_test, y_pred)\n",
    "print(\"R2 score for test data:\", test_r2)\n",
    "\n",
    "# Calculating train and test RMSE\n",
    "rmse = np.sqrt(mean_squared_error(y_train, y_train_pred))\n",
    "print(f\"RMSE(train) for Ridge Regression: {rmse:.4f}\")\n",
    "\n",
    "rmse = np.sqrt(mean_squared_error(y_test, y_pred))\n",
    "print(f\"RMSE(test) for Ridge Regression: {rmse:.4f}\")"
   ]
  },
  {
   "cell_type": "markdown",
   "id": "386d25cc",
   "metadata": {},
   "source": [
    "The R2 score for the train data and test data is approximately 0.6464 and  0.6462, which means that approximately 64.64% and 64.62% of the variance in the target variable is explained by the features in the training and testing dataset.\n",
    "The RMSE for the train data and test data is approximately 68399.2086 and 69476.4190 units. This means that, on average, the predicted values are off by approximately 68399.2086 and 69476.4190 units from the actual values in the training and testing dataset."
   ]
  },
  {
   "cell_type": "markdown",
   "id": "bdc4bda2",
   "metadata": {},
   "source": [
    "#9. Elastic Net Regression:\n",
    "- Implement Elastic Net Regression on the training data.\n",
    "- Predict the output for the test dataset using the fitted Elastic Net model.\n",
    "- Evaluate and print the RMSE for Elastic Net Regression."
   ]
  },
  {
   "cell_type": "code",
   "execution_count": 79,
   "id": "183a7436",
   "metadata": {},
   "outputs": [
    {
     "name": "stdout",
     "output_type": "stream",
     "text": [
      "R2 score for train data: 0.565179977635\n",
      "R2 score for test data: 0.5651703933466987\n",
      "RMSE(train) for ElasticNet Regression: 75852.6676\n",
      "RMSE(test) for ElasticNet Regression: 77029.0125\n"
     ]
    }
   ],
   "source": [
    "# Initializing and fitting the ElasticNet Regression model\n",
    "elastic_net_model = ElasticNet(alpha=1.0, l1_ratio=0.5) \n",
    "elastic_net_model.fit(X_train, y_train)\n",
    "\n",
    "# Predicting the output for the train and test dataset\n",
    "y_train_pred = elastic_net_model.predict(X_train)\n",
    "y_pred = elastic_net_model.predict(X_test)\n",
    "\n",
    "# Calculating train and test R2 score\n",
    "train_r2 = r2_score(y_train, y_train_pred)\n",
    "print(\"R2 score for train data:\", train_r2)\n",
    "\n",
    "test_r2 = r2_score(y_test, y_pred)\n",
    "print(\"R2 score for test data:\", test_r2)\n",
    "\n",
    "# Calculating train and test RMSE\n",
    "rmse = np.sqrt(mean_squared_error(y_train, y_train_pred))\n",
    "print(f\"RMSE(train) for ElasticNet Regression: {rmse:.4f}\")\n",
    "\n",
    "rmse = np.sqrt(mean_squared_error(y_test, y_pred))\n",
    "print(f\"RMSE(test) for ElasticNet Regression: {rmse:.4f}\")"
   ]
  },
  {
   "cell_type": "markdown",
   "id": "0775ad20",
   "metadata": {},
   "source": [
    "The R2 score for the train data and test data is similar and approximately 0.5651, which means that approximately 56.51% of the variance in the target variable is explained by the features in the training and testing dataset.\n",
    "The RMSE for the train data and test data is approximately 75852.6676 and 77029.0125 units. This means that, on average, the predicted values are off by approximately 75852.6676 and 77029.0125 units from the actual values in the training and testing dataset."
   ]
  },
  {
   "cell_type": "markdown",
   "id": "678c0f38",
   "metadata": {},
   "source": [
    "#10. Cross-Validation and Grid Search:\n",
    "- Apply cross-validation on the dataset to assess the models' generalization performance.\n",
    "- Perform grid search to fine-tune hyperparameters for Ridge and Lasso Regression models.\n",
    "- Discuss the results of cross-validation and grid search, providing insights into the optimal hyperparameters for the models"
   ]
  },
  {
   "cell_type": "code",
   "execution_count": 84,
   "id": "c4508c46",
   "metadata": {},
   "outputs": [
    {
     "name": "stdout",
     "output_type": "stream",
     "text": [
      "Cross-Validation RMSE scores for Linear: [69299.07315794 69026.88769617 67708.24589533 65813.19806569\n",
      " 71608.29843775]\n",
      "Mean RMSE across all folds: 68691.14065057761\n"
     ]
    }
   ],
   "source": [
    "model = LinearRegression()\n",
    "\n",
    "# Initialize KFold cross-validation\n",
    "kf = KFold(n_splits=5, shuffle=True, random_state=42)\n",
    "\n",
    "# Perform cross-validation\n",
    "mse_scores = cross_val_score(model, X, y, cv=kf, scoring='neg_mean_squared_error')\n",
    "\n",
    "# Calculate RMSE scores\n",
    "rmse_scores = np.sqrt(-mse_scores)\n",
    "\n",
    "print(\"Cross-Validation RMSE scores for Linear:\", rmse_scores)\n",
    "print(f'Mean RMSE across all folds:',rmse_scores.mean())"
   ]
  },
  {
   "cell_type": "markdown",
   "id": "4b0e9d23",
   "metadata": {},
   "source": [
    "The RMSE scores across different folds range from approximately 65813.20 to 71608.30 units with a mean RMSE of approximately 68691.14 units.\n",
    "The variability in RMSE scores across folds indicates how consistent the model's performance is across different subsets of the data. Having a smaller variability suggests a more stable model."
   ]
  },
  {
   "cell_type": "code",
   "execution_count": 80,
   "id": "b41516bc",
   "metadata": {},
   "outputs": [],
   "source": [
    "# Initializing KFold for cross-validation\n",
    "cv_folds = KFold(n_splits=5, shuffle=True, random_state=10)\n",
    "\n",
    "# Range of alpha values for Ridge regression\n",
    "params = {'alpha':[0.001,0.01,0.1,0.2,0.5,0.9,1.0,5.0,10.0,50.0,100.0]}"
   ]
  },
  {
   "cell_type": "code",
   "execution_count": 81,
   "id": "c62a70d2",
   "metadata": {},
   "outputs": [
    {
     "name": "stdout",
     "output_type": "stream",
     "text": [
      "Best parameters for Ridge: {'alpha': 10.0}\n",
      "Cross-Validation RMSE scores for Ridge: [68698.39511704 68908.71216957 69040.31369858 67480.0438679\n",
      " 68993.0414666 ]\n",
      "Mean RMSE for Ridge: 68624.10126393789\n",
      "R2 score for train data: 0.6464268182104302\n",
      "R2 score for test data: 0.6463139189160093\n",
      "RMSE(train) for Ridge Regression: 68399.9447\n",
      "RMSE(test) for Ridge Regression: 69471.0338\n"
     ]
    }
   ],
   "source": [
    "# Performing grid search with cross-validation for Ridge\n",
    "ridge_grid_search = GridSearchCV(Ridge(), params, cv=cv_folds, scoring='neg_mean_squared_error')\n",
    "ridge_grid_search.fit(X_train, y_train)\n",
    "\n",
    "# Getting best parameters for Ridge\n",
    "best_ridge_params = ridge_grid_search.best_params_\n",
    "print(\"Best parameters for Ridge:\", best_ridge_params)\n",
    "\n",
    "# Getting best Ridge model\n",
    "best_ridge_model = ridge_grid_search.best_estimator_\n",
    "\n",
    "# Assess generalization performance using cross-validation\n",
    "ridge_cv_scores = cross_val_score(best_ridge_model, X_train, y_train, cv=cv_folds, \n",
    "                                  scoring='neg_mean_squared_error')\n",
    "\n",
    "# Converting negative MSE scores to RMSE\n",
    "ridge_cv_rmse_scores = np.sqrt(-ridge_cv_scores)\n",
    "print(\"Cross-Validation RMSE scores for Ridge:\", ridge_cv_rmse_scores)\n",
    "print(\"Mean RMSE for Ridge:\", ridge_cv_rmse_scores.mean())\n",
    "\n",
    "# Fitting the best Ridge model on the training data\n",
    "best_ridge_model.fit(X_train, y_train)\n",
    "\n",
    "# Predicting the output for the train and test dataset\n",
    "y_train_pred = best_ridge_model.predict(X_train)\n",
    "y_pred = best_ridge_model.predict(X_test)\n",
    "\n",
    "# Calculating R2 score for train and test data\n",
    "train_r2 = r2_score(y_train, y_train_pred)\n",
    "print(\"R2 score for train data:\", train_r2)\n",
    "\n",
    "test_r2 = r2_score(y_test, y_pred)\n",
    "print(\"R2 score for test data:\", test_r2)\n",
    "\n",
    "# Calculating train and test RMSE\n",
    "rmse_train = np.sqrt(mean_squared_error(y_train, y_train_pred))\n",
    "print(f\"RMSE(train) for Ridge Regression: {rmse_train:.4f}\")\n",
    "\n",
    "rmse_test = np.sqrt(mean_squared_error(y_test, y_pred))\n",
    "print(f\"RMSE(test) for Ridge Regression: {rmse_test:.4f}\")"
   ]
  },
  {
   "cell_type": "markdown",
   "id": "72309374",
   "metadata": {},
   "source": [
    "The best value for the regularization parameter (alpha) found by grid search is 10.0.\n",
    "The R2 scores for both train and test datasets remain relatively consistent before and after grid search, indicating that the model's ability to explain the variance in the target variable remains similar.\n",
    "The RMSE values also show a slight change after grid search, but the differences are relatively small. This suggests that tuning the regularization parameter did not significantly impact the model's predictive performance.\n",
    "The RMSE scores range from approximately 67480.04 to 69040.31 units across the 5 folds, with a mean RMSE of approximately 68624.10 units.\n",
    "The variability in RMSE scores across folds indicates how consistent the model's performance is across different subsets of the data. Having a smaller variability suggests a more stable model."
   ]
  },
  {
   "cell_type": "code",
   "execution_count": 82,
   "id": "78bbb510",
   "metadata": {},
   "outputs": [
    {
     "name": "stdout",
     "output_type": "stream",
     "text": [
      "Best parameters for Lasso: {'alpha': 50.0}\n",
      "Cross-Validation RMSE scores for Lasso: [68684.433      68920.63242333 69043.79007543 67480.83211478\n",
      " 68997.76363047]\n",
      "Mean RMSE for Lasso: 68625.49024880368\n",
      "R2 score for train data: 0.6464134246424034\n",
      "R2 score for test data: 0.6462406172852683\n",
      "RMSE(train) for Lasso Regression: 68401.2402\n",
      "RMSE(test) for Lasso Regression: 69478.2324\n"
     ]
    }
   ],
   "source": [
    "# Performing grid search with cross-validation for Lasso\n",
    "lasso_grid_search = GridSearchCV(Lasso(), params, cv=cv_folds, scoring='neg_mean_squared_error')\n",
    "lasso_grid_search.fit(X_train, y_train)\n",
    "\n",
    "# Getting best parameters for Lasso\n",
    "best_lasso_params = lasso_grid_search.best_params_\n",
    "print(\"Best parameters for Lasso:\", best_lasso_params)\n",
    "\n",
    "# Getting best Lasso model\n",
    "best_lasso_model = lasso_grid_search.best_estimator_\n",
    "\n",
    "# Assess generalization performance using cross-validation\n",
    "lasso_cv_scores = cross_val_score(best_lasso_model, X_train, y_train, cv=cv_folds, scoring='neg_mean_squared_error')\n",
    "\n",
    "# Converting negative MSE scores to RMSE\n",
    "lasso_cv_rmse_scores = np.sqrt(-lasso_cv_scores)\n",
    "print(\"Cross-Validation RMSE scores for Lasso:\", lasso_cv_rmse_scores)\n",
    "print(\"Mean RMSE for Lasso:\", lasso_cv_rmse_scores.mean())\n",
    "\n",
    "# Fitting the best Lasso model on the training data\n",
    "best_lasso_model.fit(X_train, y_train)\n",
    "\n",
    "# Predicting the output for the train and test dataset\n",
    "y_train_pred = best_lasso_model.predict(X_train)\n",
    "y_pred = best_lasso_model.predict(X_test)\n",
    "\n",
    "# Calculating R2 score for train and test data\n",
    "train_r2 = r2_score(y_train, y_train_pred)\n",
    "print(\"R2 score for train data:\", train_r2)\n",
    "\n",
    "test_r2 = r2_score(y_test, y_pred)\n",
    "print(\"R2 score for test data:\", test_r2)\n",
    "\n",
    "# Calculating train and test RMSE\n",
    "rmse_train = np.sqrt(mean_squared_error(y_train, y_train_pred))\n",
    "print(f\"RMSE(train) for Lasso Regression: {rmse_train:.4f}\")\n",
    "\n",
    "rmse_test = np.sqrt(mean_squared_error(y_test, y_pred))\n",
    "print(f\"RMSE(test) for Lasso Regression: {rmse_test:.4f}\")"
   ]
  },
  {
   "cell_type": "markdown",
   "id": "fc6e9308",
   "metadata": {},
   "source": [
    "The best value for the regularization parameter (alpha) found by grid search is 50.0.\n",
    "The R2 scores for both train and test datasets remain relatively consistent before and after grid search, indicating that the model's ability to explain the variance in the target variable remains similar.\n",
    "The RMSE values also show a slight change after grid search, but the differences are relatively small. This suggests that tuning the regularization parameter did not significantly impact the model's predictive performance.\n",
    "The RMSE scores range from approximately 67480.83 to 69043.79 units across the 5 folds, with a mean RMSE of approximately 68625.49 units.\n",
    "The variability in RMSE scores across folds indicates how consistent the model's performance is across different subsets of the data. Having a smaller variability suggests a more stable model."
   ]
  }
 ],
 "metadata": {
  "kernelspec": {
   "display_name": "Python 3 (ipykernel)",
   "language": "python",
   "name": "python3"
  },
  "language_info": {
   "codemirror_mode": {
    "name": "ipython",
    "version": 3
   },
   "file_extension": ".py",
   "mimetype": "text/x-python",
   "name": "python",
   "nbconvert_exporter": "python",
   "pygments_lexer": "ipython3",
   "version": "3.11.5"
  }
 },
 "nbformat": 4,
 "nbformat_minor": 5
}
